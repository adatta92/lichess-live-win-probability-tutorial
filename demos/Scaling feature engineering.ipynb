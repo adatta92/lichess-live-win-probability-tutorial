{
 "cells": [
  {
   "cell_type": "code",
   "execution_count": null,
   "metadata": {},
   "outputs": [],
   "source": [
    "import ibis\n",
    "from ibis import _"
   ]
  },
  {
   "cell_type": "markdown",
   "metadata": {},
   "source": [
    "# Connect to Starburst Galaxy\n",
    "\n",
    "First, connect to Starburst Galaxy. We’ll use a `.env` in this example for secrets that are loaded as environment variables. This requires installing the `python-dotenv` package—alternatively, you can set the environment variables for your system."
   ]
  },
  {
   "cell_type": "code",
   "execution_count": null,
   "metadata": {},
   "outputs": [],
   "source": [
    "import os\n",
    "\n",
    "from dotenv import load_dotenv\n",
    "from trino.auth import BasicAuthentication\n",
    "\n",
    "load_dotenv()\n",
    "\n",
    "user = os.getenv(\"TRINO_USERNAME\")\n",
    "password = os.getenv(\"TRINO_PASSWORD\")\n",
    "host = os.getenv(\"TRINO_HOSTNAME\")\n",
    "port = os.getenv(\"TRINO_PORTNUMBER\")\n",
    "catalog = \"lichess\"\n",
    "schema = \"lichess\"\n",
    "\n",
    "con = ibis.trino.connect(\n",
    "    user=user,\n",
    "    password=BasicAuthentication(user, password),\n",
    "    host=host,\n",
    "    port=port,\n",
    "    database=catalog,\n",
    "    schema=schema,\n",
    "    roles=\"accountadmin\",\n",
    "    http_scheme=\"https\",\n",
    ")\n",
    "con"
   ]
  },
  {
   "cell_type": "markdown",
   "metadata": {},
   "source": [
    "# Verify connection\n",
    "\n",
    "List the tables your connection has:"
   ]
  },
  {
   "cell_type": "code",
   "execution_count": null,
   "metadata": {},
   "outputs": [],
   "source": [
    "con.list_tables()"
   ]
  },
  {
   "cell_type": "markdown",
   "metadata": {},
   "source": [
    "Run a SQL query:"
   ]
  },
  {
   "cell_type": "code",
   "execution_count": null,
   "metadata": {},
   "outputs": [],
   "source": [
    "con.sql(\"SELECT * FROM games LIMIT 10\").execute()"
   ]
  },
  {
   "cell_type": "markdown",
   "metadata": {},
   "source": [
    "# Filter out games without evals"
   ]
  },
  {
   "cell_type": "code",
   "execution_count": null,
   "metadata": {},
   "outputs": [],
   "source": [
    "unfiltered_games = con.table(\"games\")\n",
    "unfiltered_games.count().to_pyarrow().as_py()"
   ]
  },
  {
   "cell_type": "code",
   "execution_count": null,
   "metadata": {},
   "outputs": [],
   "source": [
    "unfiltered_moves = con.table(\"moves\")\n",
    "unfiltered_moves.count().to_pyarrow().as_py()"
   ]
  },
  {
   "cell_type": "code",
   "execution_count": null,
   "metadata": {},
   "outputs": [],
   "source": [
    "games_with_evals = (\n",
    "    unfiltered_moves.mutate(has_eval=_.comment.contains(\"[%eval\"))\n",
    "    .group_by(_.game_id)\n",
    "    .agg(\n",
    "        percent_has_eval=_.has_eval.mean(),\n",
    "        has_no_eval_count=_.count() - _.has_eval.sum(),\n",
    "    )\n",
    "    .mutate(\n",
    "        has_no_eval_count=ibis.ifelse(_.percent_has_eval == 0, -1, _.has_no_eval_count)\n",
    "    )\n",
    "    .filter(_.has_no_eval_count.between(0, 1))\n",
    ")\n",
    "games_with_evals.count().to_pyarrow().as_py()"
   ]
  },
  {
   "cell_type": "code",
   "execution_count": null,
   "metadata": {},
   "outputs": [],
   "source": [
    "games = games_with_evals.select(\"game_id\").join(unfiltered_games, \"game_id\")\n",
    "games.count().to_pyarrow().as_py()"
   ]
  },
  {
   "cell_type": "code",
   "execution_count": null,
   "metadata": {},
   "outputs": [],
   "source": [
    "moves = games_with_evals.select(\"game_id\").join(unfiltered_moves, \"game_id\")\n",
    "moves.count().to_pyarrow().as_py()"
   ]
  },
  {
   "cell_type": "markdown",
   "metadata": {},
   "source": [
    "# Create game-level features"
   ]
  },
  {
   "cell_type": "code",
   "execution_count": null,
   "metadata": {},
   "outputs": [],
   "source": [
    "game_level_features = []"
   ]
  },
  {
   "cell_type": "markdown",
   "metadata": {},
   "source": [
    "## `event`-based features"
   ]
  },
  {
   "cell_type": "code",
   "execution_count": null,
   "metadata": {},
   "outputs": [],
   "source": [
    "is_rated = games.event.startswith(\"Rated \")\n",
    "game_level_features.append(is_rated.name(\"is_rated\"))"
   ]
  },
  {
   "cell_type": "code",
   "execution_count": null,
   "metadata": {},
   "outputs": [],
   "source": [
    "event_with_rated_prefix_stripped = is_rated.ifelse(\n",
    "    games.event[len(\"Rated \") :], games.event\n",
    ")\n",
    "lichess_time_control_type = event_with_rated_prefix_stripped.substr(\n",
    "    0, event_with_rated_prefix_stripped.find(\" \")\n",
    ")\n",
    "game_level_features.append(lichess_time_control_type.name(\"lichess_time_control_type\"))"
   ]
  },
  {
   "cell_type": "code",
   "execution_count": null,
   "metadata": {},
   "outputs": [],
   "source": [
    "is_tournament = games.event.contains(\"tournament\")\n",
    "game_level_features.append(is_tournament.name(\"is_tournament\"))"
   ]
  },
  {
   "cell_type": "markdown",
   "metadata": {},
   "source": [
    "## Elo-based features"
   ]
  },
  {
   "cell_type": "code",
   "execution_count": null,
   "metadata": {},
   "outputs": [],
   "source": [
    "white_elo = games.white_elo.cast(int)\n",
    "game_level_features.append(white_elo.name(\"white_elo\"))"
   ]
  },
  {
   "cell_type": "code",
   "execution_count": null,
   "metadata": {},
   "outputs": [],
   "source": [
    "black_elo = games.black_elo.cast(int)\n",
    "game_level_features.append(black_elo.name(\"black_elo\"))"
   ]
  },
  {
   "cell_type": "markdown",
   "metadata": {},
   "source": [
    "## Title features"
   ]
  },
  {
   "cell_type": "code",
   "execution_count": null,
   "metadata": {},
   "outputs": [],
   "source": [
    "white_title = games.white_title\n",
    "game_level_features.append(white_title.name(\"white_title\"))"
   ]
  },
  {
   "cell_type": "code",
   "execution_count": null,
   "metadata": {},
   "outputs": [],
   "source": [
    "black_title = games.black_title\n",
    "game_level_features.append(black_title.name(\"black_title\"))"
   ]
  },
  {
   "cell_type": "markdown",
   "metadata": {},
   "source": [
    "## `time_control`-based features"
   ]
  },
  {
   "cell_type": "code",
   "execution_count": null,
   "metadata": {},
   "outputs": [],
   "source": [
    "index = games.time_control.find(\"+\")\n",
    "base_time = games.time_control.substr(0, index).try_cast(int)\n",
    "increment = games.time_control.substr(index + 1).try_cast(int)\n",
    "game_level_features += [\n",
    "    base_time.name(\"base_time\"),\n",
    "    increment.name(\"increment\"),\n",
    "]"
   ]
  },
  {
   "cell_type": "markdown",
   "metadata": {},
   "source": [
    "## Target variable"
   ]
  },
  {
   "cell_type": "code",
   "execution_count": null,
   "metadata": {},
   "outputs": [],
   "source": [
    "target = games.result.case().when(\"1-0\", 1).when(\"1/2-1/2\", 0.5).when(\"0-1\", 0).end()\n",
    "game_level_features.append(target.name(\"target\"))"
   ]
  },
  {
   "cell_type": "markdown",
   "metadata": {},
   "source": [
    "# Create move-level features\n",
    "\n",
    "## Eval-based features"
   ]
  },
  {
   "cell_type": "code",
   "execution_count": null,
   "metadata": {},
   "outputs": [],
   "source": [
    "eval_based_features = []"
   ]
  },
  {
   "cell_type": "code",
   "execution_count": null,
   "metadata": {},
   "outputs": [],
   "source": [
    "moves_with_parsed_eval = moves.alias(\"moves\").sql(\n",
    "    r\"\"\"\n",
    "        SELECT\n",
    "          *,\n",
    "          REGEXP_EXTRACT(\n",
    "            comment,\n",
    "            '\\[%eval\\s(\\#[+-]?\\d+)|([+-]?\\d{0,10}\\.\\d{1,2}|\\d{1,10}\\.?)',\n",
    "            1\n",
    "          ) AS mate,\n",
    "          REGEXP_EXTRACT(\n",
    "            comment,\n",
    "            '\\[%eval\\s(\\#[+-]?\\d+)|([+-]?\\d{0,10}\\.\\d{1,2}|\\d{1,10}\\.?)',\n",
    "            2\n",
    "          ) AS regular_eval\n",
    "        FROM moves\n",
    "        \"\"\"\n",
    ")\n",
    "moves_with_parsed_eval"
   ]
  },
  {
   "cell_type": "code",
   "execution_count": null,
   "metadata": {},
   "outputs": [],
   "source": [
    "MATE_SCORE = 1_000  # Arbitrary large number greater than 121 (`max(abs(mate))`)\n",
    "\n",
    "mate_eval = moves_with_parsed_eval.mate.substr(1).try_cast(\n",
    "    int\n",
    ").sign() * MATE_SCORE - moves_with_parsed_eval.mate.substr(1).try_cast(int)\n",
    "eval_based_features += [\n",
    "    mate_eval.name(\"mate_eval\"),\n",
    "    moves_with_parsed_eval.regular_eval.try_cast(\"float\").name(\"regular_eval\"),\n",
    "]"
   ]
  },
  {
   "cell_type": "markdown",
   "metadata": {},
   "source": [
    "## Clock-based features"
   ]
  },
  {
   "cell_type": "code",
   "execution_count": null,
   "metadata": {},
   "outputs": [],
   "source": [
    "clock_based_features = []"
   ]
  },
  {
   "cell_type": "code",
   "execution_count": null,
   "metadata": {},
   "outputs": [],
   "source": [
    "moves_with_parsed_clock = moves.alias(\"moves\").sql(\n",
    "    r\"\"\"\n",
    "        SELECT\n",
    "          *,\n",
    "          REGEXP_EXTRACT(\n",
    "            comment,\n",
    "            '\\[%clk\\s(\\d+):(\\d+):(\\d+)\\]',\n",
    "            1\n",
    "          ) AS hours,\n",
    "          REGEXP_EXTRACT(\n",
    "            comment,\n",
    "            '\\[%clk\\s(\\d+):(\\d+):(\\d+)\\]',\n",
    "            2\n",
    "          ) AS minutes,\n",
    "          REGEXP_EXTRACT(\n",
    "            comment,\n",
    "            '\\[%clk\\s(\\d+):(\\d+):(\\d+)\\]',\n",
    "            3\n",
    "          ) AS seconds\n",
    "        FROM moves\n",
    "        \"\"\"\n",
    ")\n",
    "moves_with_parsed_clock"
   ]
  },
  {
   "cell_type": "code",
   "execution_count": null,
   "metadata": {},
   "outputs": [],
   "source": [
    "clock = (\n",
    "    moves_with_parsed_clock.hours.try_cast(int) * 3600\n",
    "    + moves_with_parsed_clock.minutes.try_cast(int) * 60\n",
    "    + moves_with_parsed_clock.seconds.try_cast(float)\n",
    ")"
   ]
  },
  {
   "cell_type": "code",
   "execution_count": null,
   "metadata": {},
   "outputs": [],
   "source": [
    "w = ibis.window(group_by=\"game_id\", order_by=\"ply\")\n",
    "previous_clock = clock.lag().over(w)\n",
    "white_clock = ibis.ifelse(moves_with_parsed_clock.ply % 2 == 1, clock, previous_clock)\n",
    "black_clock = ibis.ifelse(moves_with_parsed_clock.ply % 2 == 0, clock, previous_clock)\n",
    "black_clock = black_clock.coalesce(white_clock)\n",
    "clock_based_features += [\n",
    "    white_clock.name(\"white_clock\"),\n",
    "    black_clock.name(\"black_clock\"),\n",
    "]"
   ]
  },
  {
   "cell_type": "markdown",
   "metadata": {},
   "source": [
    "# Create model input table"
   ]
  },
  {
   "cell_type": "code",
   "execution_count": null,
   "metadata": {},
   "outputs": [],
   "source": [
    "move_level_features = moves_with_parsed_eval.select(\n",
    "    \"game_id\", \"ply\", *eval_based_features\n",
    ").join(\n",
    "    moves_with_parsed_clock.select(\"game_id\", \"ply\", *clock_based_features),\n",
    "    [\"game_id\", \"ply\"],\n",
    ")\n",
    "model_input_table = games.select(\"game_id\", *game_level_features).join(\n",
    "    move_level_features, \"game_id\"\n",
    ")\n",
    "model_input_table"
   ]
  },
  {
   "cell_type": "code",
   "execution_count": null,
   "metadata": {},
   "outputs": [],
   "source": [
    "model_input_table_with_final_eval = model_input_table.mutate(\n",
    "    mate_eval=model_input_table.mate_eval.coalesce(\n",
    "        ibis.ifelse(\n",
    "            model_input_table.regular_eval.isnull(),\n",
    "            model_input_table.target.case()\n",
    "            .when(1.0, MATE_SCORE)\n",
    "            .when(0.0, -MATE_SCORE)\n",
    "            .when(0.5, 0)\n",
    "            .end(),\n",
    "            None,\n",
    "        )\n",
    "    )\n",
    ")"
   ]
  },
  {
   "cell_type": "code",
   "execution_count": null,
   "metadata": {},
   "outputs": [],
   "source": [
    "filtered_model_input_table = model_input_table_with_final_eval.filter(\n",
    "    (model_input_table_with_final_eval.is_rated)\n",
    "    & (model_input_table_with_final_eval.lichess_time_control_type != \"Correspondence\")\n",
    ")"
   ]
  },
  {
   "cell_type": "code",
   "execution_count": null,
   "metadata": {},
   "outputs": [],
   "source": [
    "filtered_model_input_table.head().execute()"
   ]
  },
  {
   "cell_type": "code",
   "execution_count": null,
   "metadata": {},
   "outputs": [],
   "source": [
    "filtered_model_input_table.count().to_pyarrow().as_py()"
   ]
  }
 ],
 "metadata": {
  "kernelspec": {
   "display_name": ".venv",
   "language": "python",
   "name": "python3"
  },
  "language_info": {
   "codemirror_mode": {
    "name": "ipython",
    "version": 3
   },
   "file_extension": ".py",
   "mimetype": "text/x-python",
   "name": "python",
   "nbconvert_exporter": "python",
   "pygments_lexer": "ipython3",
   "version": "3.12.7"
  }
 },
 "nbformat": 4,
 "nbformat_minor": 2
}
