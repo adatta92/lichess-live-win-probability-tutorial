{
 "cells": [
  {
   "cell_type": "code",
   "execution_count": 1,
   "metadata": {},
   "outputs": [],
   "source": [
    "import ibis\n",
    "from ibis import _\n",
    "\n",
    "ibis.options.interactive = True"
   ]
  },
  {
   "cell_type": "markdown",
   "metadata": {},
   "source": [
    "# Create game-level features"
   ]
  },
  {
   "cell_type": "code",
   "execution_count": 2,
   "metadata": {},
   "outputs": [],
   "source": [
    "game_level_features = []"
   ]
  },
  {
   "cell_type": "code",
   "execution_count": null,
   "metadata": {},
   "outputs": [],
   "source": [
    "games = ibis.read_parquet(\"data/games.parquet\")\n",
    "games"
   ]
  },
  {
   "cell_type": "markdown",
   "metadata": {},
   "source": [
    "## `event`-based features\n",
    "\n",
    "The `event` field includes interesting information, such as whether the game was rated or part of a tournament.\n",
    "\n",
    "The first thing we see above is that all of the `event` values start with `\"Rated \"`; is this really the case?"
   ]
  },
  {
   "cell_type": "code",
   "execution_count": null,
   "metadata": {},
   "outputs": [],
   "source": [
    "games.event[: len(\"Rated \")].value_counts()"
   ]
  },
  {
   "cell_type": "markdown",
   "metadata": {},
   "source": [
    "It looks like unrated games simply exclude the prefix. Let's create our first feature, `is_rated`, given this information."
   ]
  },
  {
   "cell_type": "code",
   "execution_count": null,
   "metadata": {},
   "outputs": [],
   "source": [
    "is_rated = games.event.startswith(\"Rated \")\n",
    "is_rated.value_counts()"
   ]
  },
  {
   "cell_type": "markdown",
   "metadata": {},
   "source": [
    "We'll add each feature we define in this section to our list of game-level features. Spoiler alert: when we combine our features later, we'll see an interesting property of working with Ibis this way.\n",
    "\n",
    "Don't forget to give each feature a meaningful name!"
   ]
  },
  {
   "cell_type": "code",
   "execution_count": null,
   "metadata": {},
   "outputs": [],
   "source": [
    "game_level_features.append(is_rated.name(\"is_rated\"))\n",
    "game_level_features"
   ]
  },
  {
   "cell_type": "markdown",
   "metadata": {},
   "source": [
    "What else can we extract from the `event` field? For starters, let's examine the most popular `event` values."
   ]
  },
  {
   "cell_type": "code",
   "execution_count": null,
   "metadata": {},
   "outputs": [],
   "source": [
    "games.event.value_counts().order_by(ibis.desc(\"event_count\"))"
   ]
  },
  {
   "cell_type": "markdown",
   "metadata": {},
   "source": [
    "Lichess categorizes games according to their \"time control\". If you're not familiar with chess, Classical games are the slowest, followed by Rapid, then Blitz. Bullet games are very fast, and UltraBullet games are, well, ultra-fast.\n",
    "\n",
    "Correspondence games are essentially untimed. We'll exclude these games later, because we want to see how time modulates win likelihood.\n",
    "\n",
    "Notice that we reuse the `is_rated` logic below when creating the time control feature."
   ]
  },
  {
   "cell_type": "code",
   "execution_count": null,
   "metadata": {},
   "outputs": [],
   "source": [
    "event_with_rated_prefix_stripped = is_rated.ifelse(\n",
    "    games.event[len(\"Rated \") :], games.event\n",
    ")\n",
    "lichess_time_control_type = event_with_rated_prefix_stripped.substr(\n",
    "    0, event_with_rated_prefix_stripped.find(\" \")\n",
    ")\n",
    "lichess_time_control_type.value_counts()"
   ]
  },
  {
   "cell_type": "code",
   "execution_count": 9,
   "metadata": {},
   "outputs": [],
   "source": [
    "game_level_features.append(lichess_time_control_type.name(\"lichess_time_control_type\"))"
   ]
  },
  {
   "cell_type": "markdown",
   "metadata": {},
   "source": [
    "### Exercise 1\n",
    "\n",
    "The last `event`-based feature we want for now is whether the game was a tournament game. No need to overcomplicate things—just check whether the `event` field [contains](https://ibis-project.org/reference/expression-strings#ibis.expr.types.strings.StringValue.contains) the relevant text."
   ]
  },
  {
   "cell_type": "code",
   "execution_count": 10,
   "metadata": {},
   "outputs": [],
   "source": [
    "is_tournament = games"
   ]
  },
  {
   "cell_type": "markdown",
   "metadata": {},
   "source": [
    "#### Solution"
   ]
  },
  {
   "cell_type": "code",
   "execution_count": 11,
   "metadata": {},
   "outputs": [],
   "source": [
    "%load solutions/nb02_ex01.py"
   ]
  },
  {
   "cell_type": "markdown",
   "metadata": {},
   "source": [
    "As usual, don't forget to add the feature you created to the list!"
   ]
  },
  {
   "cell_type": "code",
   "execution_count": 12,
   "metadata": {},
   "outputs": [],
   "source": [
    "game_level_features.append(is_tournament.name(\"is_tournament\"))"
   ]
  },
  {
   "cell_type": "markdown",
   "metadata": {},
   "source": [
    "## Elo-based features\n",
    "\n",
    "Elo ratings provide a comparative measure of skill across a pool of players and could be the basis for a number of meaningful features.\n",
    "\n",
    "Let's start by adding features corresponding to the Elo rating for each player."
   ]
  },
  {
   "cell_type": "code",
   "execution_count": null,
   "metadata": {},
   "outputs": [],
   "source": [
    "white_elo = games.white_elo.cast(int)\n",
    "white_elo"
   ]
  },
  {
   "cell_type": "code",
   "execution_count": 14,
   "metadata": {},
   "outputs": [],
   "source": [
    "game_level_features.append(white_elo.name(\"white_elo\"))"
   ]
  },
  {
   "cell_type": "code",
   "execution_count": null,
   "metadata": {},
   "outputs": [],
   "source": [
    "black_elo = games.black_elo.cast(int)\n",
    "black_elo"
   ]
  },
  {
   "cell_type": "code",
   "execution_count": 16,
   "metadata": {},
   "outputs": [],
   "source": [
    "game_level_features.append(black_elo.name(\"black_elo\"))"
   ]
  },
  {
   "cell_type": "markdown",
   "metadata": {},
   "source": [
    "The difference in skill between the two players is another obvious inclusion."
   ]
  },
  {
   "cell_type": "code",
   "execution_count": null,
   "metadata": {},
   "outputs": [],
   "source": [
    "elo_diff = white_elo - black_elo\n",
    "elo_diff"
   ]
  },
  {
   "cell_type": "code",
   "execution_count": 18,
   "metadata": {},
   "outputs": [],
   "source": [
    "game_level_features.append(elo_diff.name(\"elo_diff\"))"
   ]
  },
  {
   "cell_type": "markdown",
   "metadata": {},
   "source": [
    "For our final Elo-based feature, let's compute each player's rating change since their previous game.\n",
    "\n",
    "Keep in mind that players have separate ratings for each time control (we can reuse the `lichess_time_control_type` feature in our group-by clause). For our sort key, we can use the concatenation of the `utc_date` and `utc_time` columns."
   ]
  },
  {
   "cell_type": "code",
   "execution_count": null,
   "metadata": {},
   "outputs": [],
   "source": [
    "utc_timestamp = games.utc_date + \" \" + games.utc_time\n",
    "utc_timestamp"
   ]
  },
  {
   "cell_type": "code",
   "execution_count": null,
   "metadata": {},
   "outputs": [],
   "source": [
    "white_elo_gained_since_previous_game = white_elo - white_elo.lag().over(\n",
    "    ibis.window(\n",
    "        group_by=[games.white.lower(), lichess_time_control_type],\n",
    "        order_by=utc_timestamp,\n",
    "    )\n",
    ")\n",
    "white_elo_gained_since_previous_game"
   ]
  },
  {
   "cell_type": "markdown",
   "metadata": {},
   "source": [
    "Is that correct? We can sanity check our implementation by selecting the feature alongside the relevant columns."
   ]
  },
  {
   "cell_type": "code",
   "execution_count": null,
   "metadata": {},
   "outputs": [],
   "source": [
    "games.select(\n",
    "    \"white\", \"utc_date\", \"utc_time\", \"white_elo\", white_elo_gained_since_previous_game\n",
    ").order_by(\"white\", \"utc_date\", \"utc_time\")"
   ]
  },
  {
   "cell_type": "markdown",
   "metadata": {},
   "source": [
    "Looks good to me! We can copy the logic to compute `black_elo_gained_since_previous_game` and add them both to our list of features."
   ]
  },
  {
   "cell_type": "code",
   "execution_count": null,
   "metadata": {},
   "outputs": [],
   "source": [
    "black_elo_gained_since_previous_game = black_elo - black_elo.lag().over(\n",
    "    ibis.window(\n",
    "        group_by=[games.black.lower(), lichess_time_control_type],\n",
    "        order_by=utc_timestamp,\n",
    "    )\n",
    ")\n",
    "black_elo_gained_since_previous_game"
   ]
  },
  {
   "cell_type": "code",
   "execution_count": 23,
   "metadata": {},
   "outputs": [],
   "source": [
    "game_level_features += [\n",
    "    white_elo_gained_since_previous_game.name(\"white_elo_gained_since_previous_game\"),\n",
    "    black_elo_gained_since_previous_game.name(\"black_elo_gained_since_previous_game\"),\n",
    "]"
   ]
  },
  {
   "cell_type": "markdown",
   "metadata": {},
   "source": [
    "## Title features\n",
    "\n",
    "Last but not least, we can add features corresponding to the title of each player (if any)."
   ]
  },
  {
   "cell_type": "code",
   "execution_count": null,
   "metadata": {},
   "outputs": [],
   "source": [
    "white_title = games.white_title\n",
    "white_title.value_counts()"
   ]
  },
  {
   "cell_type": "code",
   "execution_count": 25,
   "metadata": {},
   "outputs": [],
   "source": [
    "game_level_features.append(white_title.name(\"white_title\"))"
   ]
  },
  {
   "cell_type": "code",
   "execution_count": null,
   "metadata": {},
   "outputs": [],
   "source": [
    "black_title = games.black_title\n",
    "black_title.value_counts()"
   ]
  },
  {
   "cell_type": "code",
   "execution_count": 27,
   "metadata": {},
   "outputs": [],
   "source": [
    "game_level_features.append(black_title.name(\"black_title\"))"
   ]
  },
  {
   "cell_type": "markdown",
   "metadata": {},
   "source": [
    "# Combine game-level features\n",
    "\n",
    "Early on in this notebook, we mentioned that we could exploit a nice property of adding all of our features to a list when it came time to combine them.\n",
    "\n",
    "While we have been eagerly evaluating all of the features above using Ibis's _interactive mode_, they are just Ibis expressions. As a result, we can simply select our features from the original table."
   ]
  },
  {
   "cell_type": "code",
   "execution_count": null,
   "metadata": {},
   "outputs": [],
   "source": [
    "games.select(\"game_id\", *game_level_features)"
   ]
  }
 ],
 "metadata": {
  "kernelspec": {
   "display_name": ".venv",
   "language": "python",
   "name": "python3"
  },
  "language_info": {
   "codemirror_mode": {
    "name": "ipython",
    "version": 3
   },
   "file_extension": ".py",
   "mimetype": "text/x-python",
   "name": "python",
   "nbconvert_exporter": "python",
   "pygments_lexer": "ipython3",
   "version": "3.12.7"
  }
 },
 "nbformat": 4,
 "nbformat_minor": 2
}
