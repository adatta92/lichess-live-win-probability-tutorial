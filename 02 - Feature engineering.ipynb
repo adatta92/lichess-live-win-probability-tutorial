{
 "cells": [
  {
   "cell_type": "code",
   "execution_count": 1,
   "metadata": {},
   "outputs": [],
   "source": [
    "import ibis\n",
    "from ibis import _\n",
    "\n",
    "ibis.options.interactive = True"
   ]
  },
  {
   "cell_type": "markdown",
   "metadata": {},
   "source": [
    "# Create game-level features"
   ]
  },
  {
   "cell_type": "code",
   "execution_count": 2,
   "metadata": {},
   "outputs": [],
   "source": [
    "game_level_features = []"
   ]
  },
  {
   "cell_type": "code",
   "execution_count": null,
   "metadata": {},
   "outputs": [],
   "source": [
    "games = ibis.read_parquet(\"data/games.parquet\")\n",
    "games"
   ]
  },
  {
   "cell_type": "markdown",
   "metadata": {},
   "source": [
    "## `event`-based features\n",
    "\n",
    "The `event` field includes interesting information, such as whether the game was rated or part of a tournament.\n",
    "\n",
    "The first thing we see above is that all of the `event` values start with `\"Rated \"`; is this really the case?"
   ]
  },
  {
   "cell_type": "code",
   "execution_count": null,
   "metadata": {},
   "outputs": [],
   "source": [
    "games.event[: len(\"Rated \")].value_counts()"
   ]
  },
  {
   "cell_type": "markdown",
   "metadata": {},
   "source": [
    "It looks like unrated games simply exclude the prefix. Let's create our first feature, `is_rated`, given this information."
   ]
  },
  {
   "cell_type": "code",
   "execution_count": null,
   "metadata": {},
   "outputs": [],
   "source": [
    "is_rated = games.event.startswith(\"Rated \")\n",
    "is_rated.value_counts()"
   ]
  },
  {
   "cell_type": "markdown",
   "metadata": {},
   "source": [
    "We'll add each feature we define in this section to our list of game-level features. Spoiler alert: when we combine our features later, we'll see an interesting property of working with Ibis this way.\n",
    "\n",
    "Don't forget to give each feature a meaningful name!"
   ]
  },
  {
   "cell_type": "code",
   "execution_count": null,
   "metadata": {},
   "outputs": [],
   "source": [
    "game_level_features.append(is_rated.name(\"is_rated\"))\n",
    "game_level_features"
   ]
  },
  {
   "cell_type": "markdown",
   "metadata": {},
   "source": [
    "What else can we extract from the `event` field? For starters, let's examine the most popular `event` values."
   ]
  },
  {
   "cell_type": "code",
   "execution_count": null,
   "metadata": {},
   "outputs": [],
   "source": [
    "games.event.value_counts().order_by(ibis.desc(\"event_count\"))"
   ]
  },
  {
   "cell_type": "markdown",
   "metadata": {},
   "source": [
    "Lichess categorizes games according to their \"time control\". If you're not familiar with chess, Classical games are the slowest, followed by Rapid, then Blitz. Bullet games are very fast, and UltraBullet games are, well, ultra-fast.\n",
    "\n",
    "Correspondence games are essentially untimed. We'll exclude these games later, because we want to see how time modulates win likelihood.\n",
    "\n",
    "Notice that we reuse the `is_rated` logic below when creating the time control feature."
   ]
  },
  {
   "cell_type": "code",
   "execution_count": null,
   "metadata": {},
   "outputs": [],
   "source": [
    "event_with_rated_prefix_stripped = is_rated.ifelse(\n",
    "    games.event[len(\"Rated \") :], games.event\n",
    ")\n",
    "lichess_time_control_type = event_with_rated_prefix_stripped.substr(\n",
    "    0, event_with_rated_prefix_stripped.find(\" \")\n",
    ")\n",
    "lichess_time_control_type.value_counts()"
   ]
  },
  {
   "cell_type": "code",
   "execution_count": 9,
   "metadata": {},
   "outputs": [],
   "source": [
    "game_level_features.append(lichess_time_control_type.name(\"lichess_time_control_type\"))"
   ]
  },
  {
   "cell_type": "markdown",
   "metadata": {},
   "source": [
    "### Exercise 1\n",
    "\n",
    "The last `event`-based feature we want for now is whether the game was a tournament game. No need to overcomplicate things—just check whether the `event` field [contains](https://ibis-project.org/reference/expression-strings#ibis.expr.types.strings.StringValue.contains) the relevant text."
   ]
  },
  {
   "cell_type": "code",
   "execution_count": 10,
   "metadata": {},
   "outputs": [],
   "source": [
    "is_tournament = games"
   ]
  },
  {
   "cell_type": "markdown",
   "metadata": {},
   "source": [
    "#### Solution"
   ]
  },
  {
   "cell_type": "code",
   "execution_count": null,
   "metadata": {},
   "outputs": [],
   "source": [
    "%load solutions/nb02_ex01.py"
   ]
  },
  {
   "cell_type": "markdown",
   "metadata": {},
   "source": [
    "As usual, don't forget to add the feature you created to the list!"
   ]
  },
  {
   "cell_type": "code",
   "execution_count": 12,
   "metadata": {},
   "outputs": [],
   "source": [
    "game_level_features.append(is_tournament.name(\"is_tournament\"))"
   ]
  },
  {
   "cell_type": "markdown",
   "metadata": {},
   "source": [
    "## Elo-based features\n",
    "\n",
    "Elo ratings provide a comparative measure of skill across a pool of players and could be the basis for a number of meaningful features.\n",
    "\n",
    "Let's start by adding features corresponding to the Elo rating for each player."
   ]
  },
  {
   "cell_type": "code",
   "execution_count": null,
   "metadata": {},
   "outputs": [],
   "source": [
    "white_elo = games.white_elo.cast(int)\n",
    "white_elo"
   ]
  },
  {
   "cell_type": "code",
   "execution_count": 14,
   "metadata": {},
   "outputs": [],
   "source": [
    "game_level_features.append(white_elo.name(\"white_elo\"))"
   ]
  },
  {
   "cell_type": "code",
   "execution_count": null,
   "metadata": {},
   "outputs": [],
   "source": [
    "black_elo = games.black_elo.cast(int)\n",
    "black_elo"
   ]
  },
  {
   "cell_type": "code",
   "execution_count": 16,
   "metadata": {},
   "outputs": [],
   "source": [
    "game_level_features.append(black_elo.name(\"black_elo\"))"
   ]
  },
  {
   "cell_type": "markdown",
   "metadata": {},
   "source": [
    "The difference in skill between the two players is another obvious inclusion."
   ]
  },
  {
   "cell_type": "code",
   "execution_count": null,
   "metadata": {},
   "outputs": [],
   "source": [
    "elo_diff = white_elo - black_elo\n",
    "elo_diff"
   ]
  },
  {
   "cell_type": "code",
   "execution_count": 18,
   "metadata": {},
   "outputs": [],
   "source": [
    "game_level_features.append(elo_diff.name(\"elo_diff\"))"
   ]
  },
  {
   "cell_type": "markdown",
   "metadata": {},
   "source": [
    "For our final Elo-based feature, let's compute each player's rating change since their previous game.\n",
    "\n",
    "Keep in mind that players have separate ratings for each time control (we can reuse the `lichess_time_control_type` feature in our group-by clause). For our sort key, we can use the concatenation of the `utc_date` and `utc_time` columns."
   ]
  },
  {
   "cell_type": "code",
   "execution_count": null,
   "metadata": {},
   "outputs": [],
   "source": [
    "utc_timestamp = games.utc_date + \" \" + games.utc_time\n",
    "utc_timestamp"
   ]
  },
  {
   "cell_type": "code",
   "execution_count": null,
   "metadata": {},
   "outputs": [],
   "source": [
    "white_elo_gained_since_previous_game = white_elo - white_elo.lag().over(\n",
    "    ibis.window(\n",
    "        group_by=[games.white.lower(), lichess_time_control_type],\n",
    "        order_by=utc_timestamp,\n",
    "    )\n",
    ")\n",
    "white_elo_gained_since_previous_game"
   ]
  },
  {
   "cell_type": "markdown",
   "metadata": {},
   "source": [
    "Is that correct? We can sanity check our implementation by selecting the feature alongside the relevant columns."
   ]
  },
  {
   "cell_type": "code",
   "execution_count": null,
   "metadata": {},
   "outputs": [],
   "source": [
    "games.select(\n",
    "    \"white\", \"utc_date\", \"utc_time\", \"white_elo\", white_elo_gained_since_previous_game\n",
    ").order_by(\"white\", \"utc_date\", \"utc_time\")"
   ]
  },
  {
   "cell_type": "markdown",
   "metadata": {},
   "source": [
    "Looks good to me! We can copy the logic to compute `black_elo_gained_since_previous_game` and add them both to our list of features."
   ]
  },
  {
   "cell_type": "code",
   "execution_count": null,
   "metadata": {},
   "outputs": [],
   "source": [
    "black_elo_gained_since_previous_game = black_elo - black_elo.lag().over(\n",
    "    ibis.window(\n",
    "        group_by=[games.black.lower(), lichess_time_control_type],\n",
    "        order_by=utc_timestamp,\n",
    "    )\n",
    ")\n",
    "black_elo_gained_since_previous_game"
   ]
  },
  {
   "cell_type": "code",
   "execution_count": 23,
   "metadata": {},
   "outputs": [],
   "source": [
    "game_level_features += [\n",
    "    white_elo_gained_since_previous_game.name(\"white_elo_gained_since_previous_game\"),\n",
    "    black_elo_gained_since_previous_game.name(\"black_elo_gained_since_previous_game\"),\n",
    "]"
   ]
  },
  {
   "cell_type": "markdown",
   "metadata": {},
   "source": [
    "## Title features\n",
    "\n",
    "Last but not least, we can add features corresponding to the title of each player (if any)."
   ]
  },
  {
   "cell_type": "code",
   "execution_count": null,
   "metadata": {},
   "outputs": [],
   "source": [
    "white_title = games.white_title\n",
    "white_title.value_counts()"
   ]
  },
  {
   "cell_type": "code",
   "execution_count": 25,
   "metadata": {},
   "outputs": [],
   "source": [
    "game_level_features.append(white_title.name(\"white_title\"))"
   ]
  },
  {
   "cell_type": "code",
   "execution_count": null,
   "metadata": {},
   "outputs": [],
   "source": [
    "black_title = games.black_title\n",
    "black_title.value_counts()"
   ]
  },
  {
   "cell_type": "code",
   "execution_count": 27,
   "metadata": {},
   "outputs": [],
   "source": [
    "game_level_features.append(black_title.name(\"black_title\"))"
   ]
  },
  {
   "cell_type": "markdown",
   "metadata": {},
   "source": [
    "# Combine game-level features\n",
    "\n",
    "Early on in this notebook, we mentioned that we could exploit a nice property of adding all of our features to a list when it came time to combine them.\n",
    "\n",
    "While we have been eagerly evaluating all of the features above using Ibis's _interactive mode_, they are just Ibis expressions. As a result, we can simply select our features from the original table."
   ]
  },
  {
   "cell_type": "code",
   "execution_count": null,
   "metadata": {},
   "outputs": [],
   "source": [
    "games.select(\"game_id\", *game_level_features)"
   ]
  },
  {
   "cell_type": "markdown",
   "metadata": {},
   "source": [
    "# Create move-level features"
   ]
  },
  {
   "cell_type": "code",
   "execution_count": null,
   "metadata": {},
   "outputs": [],
   "source": [
    "moves = ibis.read_parquet(\"data/moves/*.parquet\")\n",
    "moves"
   ]
  },
  {
   "cell_type": "markdown",
   "metadata": {},
   "source": [
    "## Eval-based features\n",
    "\n",
    "The games in our dataset all include move-by-move computer evaluations, always from white's point of view. For example, `[%eval 2.00]` indicates that white has a 200 centipawn advantage, which is the equivalent of having two extra pawns. `[%eval #-4]` means that white is getting mated in four moves.\n",
    "\n",
    "Theoretically, the objective evaluation should be a good predictor of win probability. Other things being equal, the player with the better position should be more likely to win. Of course, the computer makes its evaluation assuming perfect play; realistically, minute advantages don't mean much until you reach the highest levels of play.\n",
    "\n",
    "While the logic to parse the evaluation from the `comment` field is a bit hairy, we can apply the [`EVAL_REGEX` from the Python `chess` library](https://python-chess.readthedocs.io/en/v1.11.1/_modules/chess/pgn.html). Since Ibis's [`re_extract()`](https://ibis-project.org/reference/expression-strings.html#ibis.expr.types.strings.StringValue.re_extract) method doesn't support returning multiple matches, we drop into native DuckDB SQL."
   ]
  },
  {
   "cell_type": "code",
   "execution_count": 30,
   "metadata": {},
   "outputs": [],
   "source": [
    "eval_based_features = []"
   ]
  },
  {
   "cell_type": "code",
   "execution_count": null,
   "metadata": {},
   "outputs": [],
   "source": [
    "import string\n",
    "\n",
    "from chess.pgn import EVAL_REGEX\n",
    "\n",
    "moves_with_parsed_eval = (\n",
    "    moves.alias(\"moves\")\n",
    "    .sql(\n",
    "        f\"\"\"\n",
    "        SELECT\n",
    "          *,\n",
    "          REGEXP_EXTRACT(\n",
    "            comment,\n",
    "            '{EVAL_REGEX.pattern.translate(str.maketrans(\"\", \"\", string.whitespace))}',\n",
    "            ['prefix', 'mate', 'cp', 'depth', 'suffix']\n",
    "          ) AS eval\n",
    "        FROM moves\n",
    "        \"\"\"\n",
    "    )\n",
    "    .unpack(\"eval\")\n",
    ")\n",
    "moves_with_parsed_eval"
   ]
  },
  {
   "cell_type": "markdown",
   "metadata": {},
   "source": [
    "Let's also look at the end of the game to see an example of the `mate` field."
   ]
  },
  {
   "cell_type": "code",
   "execution_count": null,
   "metadata": {},
   "outputs": [],
   "source": [
    "moves_with_parsed_eval.filter(_.game_id == \"12IUQJ6b\").to_pandas()"
   ]
  },
  {
   "cell_type": "markdown",
   "metadata": {},
   "source": [
    "A lot of interesting features can be derived from the eval. However, for the purpose of this tutorial (and to avoid confusing non-chess players!), we'll add the `mate` and `cp` features and call it a day."
   ]
  },
  {
   "cell_type": "code",
   "execution_count": 33,
   "metadata": {},
   "outputs": [],
   "source": [
    "eval_based_features += [\n",
    "    moves_with_parsed_eval.mate.name(\"mate\"),\n",
    "    moves_with_parsed_eval.cp.name(\"cp\"),\n",
    "]"
   ]
  },
  {
   "cell_type": "code",
   "execution_count": null,
   "metadata": {},
   "outputs": [],
   "source": [
    "moves_with_parsed_eval.select(\"game_id\", \"ply\", *eval_based_features)"
   ]
  },
  {
   "cell_type": "markdown",
   "metadata": {},
   "source": [
    "## Clock-based features\n",
    "\n",
    "Quick backstory: When I first explored building a live win probability model for chess games, one of the factors I was most interested in looking into was how [\"time pressure\"](https://en.wikipedia.org/wiki/Time_trouble) affects win likelihood. Take the extreme case—you can be ahead by all the material in the world on the board, but, if you only have a couple seconds left on the clock, you're unlikely to convert the advantage in time."
   ]
  },
  {
   "cell_type": "code",
   "execution_count": 35,
   "metadata": {},
   "outputs": [],
   "source": [
    "clock_based_features = []"
   ]
  },
  {
   "cell_type": "markdown",
   "metadata": {},
   "source": [
    "### Exercise 2\n",
    "\n",
    "In the same vein as what we did to parse eval information above, we can apply the [`CLOCK_REGEX` from the Python `chess` library](https://python-chess.readthedocs.io/en/v1.11.1/_modules/chess/pgn.html) to extract clock information for each move."
   ]
  },
  {
   "cell_type": "code",
   "execution_count": 36,
   "metadata": {},
   "outputs": [],
   "source": [
    "moves_with_parsed_clock = moves"
   ]
  },
  {
   "cell_type": "markdown",
   "metadata": {},
   "source": [
    "#### Solution"
   ]
  },
  {
   "cell_type": "code",
   "execution_count": null,
   "metadata": {},
   "outputs": [],
   "source": [
    "%load solutions/nb02_ex02.py"
   ]
  },
  {
   "cell_type": "markdown",
   "metadata": {},
   "source": [
    "### Exercise 3\n",
    "\n",
    "We're not done! While it's nice that we've extracted clock components, a more meaningful feature would be the total number of seconds left on the clock. Compute this expression, and assign it to the `clock` variable.\n",
    "\n",
    "The [`cast()`](https://ibis-project.org/reference/expression-generic#ibis.expr.types.generic.Value.cast) method will probably come in handy for this."
   ]
  },
  {
   "cell_type": "code",
   "execution_count": 38,
   "metadata": {},
   "outputs": [],
   "source": [
    "clock = moves_with_parsed_clock"
   ]
  },
  {
   "cell_type": "markdown",
   "metadata": {},
   "source": [
    "#### Solution"
   ]
  },
  {
   "cell_type": "code",
   "execution_count": null,
   "metadata": {},
   "outputs": [],
   "source": [
    "%load nb02_ex03.py"
   ]
  },
  {
   "cell_type": "markdown",
   "metadata": {},
   "source": [
    "As always, let's add our feature to the appropriate list!"
   ]
  },
  {
   "cell_type": "code",
   "execution_count": 40,
   "metadata": {},
   "outputs": [],
   "source": [
    "clock_based_features.append(clock.name(\"clock\"))"
   ]
  },
  {
   "cell_type": "code",
   "execution_count": null,
   "metadata": {},
   "outputs": [],
   "source": [
    "moves_with_parsed_clock.select(\"game_id\", \"ply\", *clock_based_features)"
   ]
  }
 ],
 "metadata": {
  "kernelspec": {
   "display_name": ".venv",
   "language": "python",
   "name": "python3"
  },
  "language_info": {
   "codemirror_mode": {
    "name": "ipython",
    "version": 3
   },
   "file_extension": ".py",
   "mimetype": "text/x-python",
   "name": "python",
   "nbconvert_exporter": "python",
   "pygments_lexer": "ipython3",
   "version": "3.12.7"
  }
 },
 "nbformat": 4,
 "nbformat_minor": 2
}
